{
 "cells": [
  {
   "cell_type": "code",
   "execution_count": 70,
   "id": "96213fe6",
   "metadata": {
    "scrolled": false
   },
   "outputs": [],
   "source": [
    "import os\n",
    "import json\n",
    "import re\n",
    "import string\n",
    "from pprint import pprint\n",
    "from pathlib import Path\n",
    "from collections import defaultdict"
   ]
  },
  {
   "cell_type": "code",
   "execution_count": 93,
   "id": "1e2712c6",
   "metadata": {},
   "outputs": [],
   "source": [
    "data_root = os.path.join(\"naija_highlights\", \"data\", \"bronze\")\n",
    "punch_root = os.path.join(data_root, \"punchng\")\n",
    "sun_root = os.path.join(data_root, \"Sunnewsonline\")\n",
    "\n",
    "def get_data_paths(scraped_data_root):\n",
    "    \"\"\" get paths to data\"\"\"\n",
    "    data_paths = defaultdict(list)\n",
    "    for root, dirs, files in os.walk(scraped_data_root):\n",
    "        if \"items.json\" in files:\n",
    "            key = Path(root).stem\n",
    "            for f in files:\n",
    "                value = os.path.join(root, f)\n",
    "                data_paths[key].append(value)\n",
    "    return data_paths\n",
    "\n",
    "\n",
    "def read_data(path):\n",
    "    \"\"\" Read Json Data\"\"\"\n",
    "    data = []\n",
    "    with open(path, \"r\") as f:\n",
    "        for line in f:\n",
    "            data.append(json.loads(line))\n",
    "    \n",
    "    return data"
   ]
  },
  {
   "cell_type": "code",
   "execution_count": 250,
   "id": "fe7ec7dc",
   "metadata": {},
   "outputs": [
    {
     "data": {
      "text/plain": [
       "defaultdict(list,\n",
       "            {'day=20': ['naija_highlights\\\\data\\\\bronze\\\\Sunnewsonline\\\\year=2023\\\\month=3\\\\day=20\\\\items.json'],\n",
       "             'day=21': ['naija_highlights\\\\data\\\\bronze\\\\Sunnewsonline\\\\year=2023\\\\month=3\\\\day=21\\\\items.json'],\n",
       "             'day=22': ['naija_highlights\\\\data\\\\bronze\\\\Sunnewsonline\\\\year=2023\\\\month=3\\\\day=22\\\\items.json'],\n",
       "             'day=27': ['naija_highlights\\\\data\\\\bronze\\\\Sunnewsonline\\\\year=2023\\\\month=3\\\\day=27\\\\items.json'],\n",
       "             'day=28': ['naija_highlights\\\\data\\\\bronze\\\\Sunnewsonline\\\\year=2023\\\\month=3\\\\day=28\\\\items.json'],\n",
       "             'day=29': ['naija_highlights\\\\data\\\\bronze\\\\Sunnewsonline\\\\year=2023\\\\month=3\\\\day=29\\\\items.json']})"
      ]
     },
     "execution_count": 250,
     "metadata": {},
     "output_type": "execute_result"
    }
   ],
   "source": [
    "punch_data_paths = get_data_paths(punch_root)\n",
    "sun_data_paths = get_data_paths(sun_root)\n",
    "sun_data_paths"
   ]
  },
  {
   "cell_type": "markdown",
   "id": "a2ecc637",
   "metadata": {},
   "source": [
    "## Punch"
   ]
  },
  {
   "cell_type": "code",
   "execution_count": 254,
   "id": "00d59b51",
   "metadata": {
    "scrolled": false
   },
   "outputs": [
    {
     "data": {
      "text/plain": [
       "{'weblink': 'https://punchng.com/nysc-trust-fund-will-improve-staff-corpers-welfare-minister/',\n",
       " 'title': ' NYSC trust fund will improve staff, corpers’ welfare – Minister ',\n",
       " 'postdate': [29, 3, 2023],\n",
       " 'thumbnaillink': 'https://cdn.punchng.com/wp-content/uploads/2021/10/22112508/SUNDAY-DARE-2.jpg',\n",
       " 'author': 'Nathaniel Shaibu',\n",
       " 'body': ['The Minister for Youth and Sports Development Sunday Dare has disclosed that a reform bill which has been submitted to the President Major General Muhammadu Buhari retd. for assent will see the injection of N14bn into the National Youth Service Corps.',\n",
       "  'The minister on Tuesday made this known during his welcome address at the opening ceremony of the 2023 Annual Management Conference held in Abuja',\n",
       "  'The theme of the conference was “Optimising the operations of the NYSC at 50.”',\n",
       "  'Dare who congratulated the management of the NYSC ahead of the scheme’s 50th anniversary said discussions on reforms had to top the agenda of the conference adding that the bill could not have come at a better time.',\n",
       "  'Dare said “The NYSC Trust Fund that is coming is a part of that reform. There are other reforms that we must bear in mind both internally and externally.',\n",
       "  '“I will give you another good news. The final document and the final approval have been waiting for us to increase and improve the quality of the uniforms of our corps members. We will also increase their bicycle allowance their feeding allowance and compensation to the staff. All of that has been done and has gone to the relevant finance ministry and I am sure that as it makes its way to the Presidency we will get a positive response that will see an injection of about N14bn into corps and staff welfare of NYSC.',\n",
       "  '“I must thank the National Assembly. At a period when people were clamouring for the NYSC to be disbanded this bill was being pushed through the National Assembly. We found so many lawmakers who rallied around from the House of Representatives and its leadership to the Senate leadership to see that this bill went through the three stages and then to the table of the President.”',\n",
       "  'The minister also called on the management of the scheme to ensure that it paid attention to the corps members’ needs adding that “the youths of this country matter.”',\n",
       "  'The NYSC Director General Brig. Gen. Yushau Ahmed in his address expressed hope that the “NYSC Trust Fund would be actualised” in due time.',\n",
       "  '“When established it will make the NYSC Skill Acquisition and Entrepreneurship Development Programme more functional through the provision of training facilities and start-up capital to finance the businesses of corps entrepreneurs” Ahmed said.'],\n",
       " 'spider': 'punchng'}"
      ]
     },
     "execution_count": 254,
     "metadata": {},
     "output_type": "execute_result"
    }
   ],
   "source": [
    "sample_number = 3\n",
    "sample_data = read_data(punch_data_paths[\"day=29\"][0])[sample_number]\n",
    "sample_data"
   ]
  },
  {
   "cell_type": "markdown",
   "id": "5fd1ff31",
   "metadata": {},
   "source": [
    "## Sun Paper"
   ]
  },
  {
   "cell_type": "code",
   "execution_count": 228,
   "id": "b84deb53",
   "metadata": {},
   "outputs": [],
   "source": [
    "def clean_words(words):\n",
    "    \"\"\" clean word\"\"\"\n",
    "    punctuation = \"\".join([i for i in\\\n",
    "                string.punctuation if i not in [\".\", \"?\", \"-\", \"!\"]])\n",
    "    words = re.sub(r\"&(amp)\", \"and\", words)\n",
    "    words = re.sub(r\"[\\xa0\\n{}]\".format(punctuation),\"\", words).strip(\" \")\n",
    "    return words\n",
    "\n",
    "def clean_html(words):\n",
    "    \"\"\" removes html \"\"\"\n",
    "    return re.sub(r\"<.*?>\", \"\", words)\n",
    "\n",
    "def preprocess_author_and_body(body):\n",
    "    \"\"\" extract author from author or body \"\"\"\n",
    "    \n",
    "    def extract_author(kw, query_string):\n",
    "        \"\"\"extract author from query string\"\"\"\n",
    "        index = query_string.index(kw)\n",
    "        author = query_string[index:]\n",
    "        author = clean_words(query_string.split(kw)[-1])\n",
    "        return author\n",
    "    \n",
    "    key_words = [\"By\", \"From\"]\n",
    "    body_content = []\n",
    "    author = None\n",
    "    \n",
    "    for i, line in enumerate(body):\n",
    "        for kw in key_words:\n",
    "            if kw in line and author is None:\n",
    "                author = body.pop(i)\n",
    "                author = author.split(\"<em>\")[0]\n",
    "                author = clean_html(author)\n",
    "                author = extract_author(kw, author)\n",
    "        \n",
    "        if not any([i in line for i in key_words]):\n",
    "            body_content.append(clean_words(clean_html(line)))\n",
    "        \n",
    "    author = \"Anonymous\" if author is None else author\n",
    "    \n",
    "    return body_content, author\n"
   ]
  },
  {
   "cell_type": "code",
   "execution_count": 248,
   "id": "66043888",
   "metadata": {},
   "outputs": [
    {
     "data": {
      "text/plain": [
       "{'weblink': 'https://sunnewsonline.com/apc-professionals-council-warns-opposition-against-unsavoury-inciting-utterances-2/',\n",
       " 'title': 'APC Professionals Council warns opposition against unsavoury, inciting utterances',\n",
       " 'postdate': [27, 3, 2023],\n",
       " 'thumbnaillink': 'https://assets.sunnewsonline.com/wp-content/uploads/2023/03/APC.jpg',\n",
       " 'author': 'Lukman Olabiyi',\n",
       " 'body': ['The council in a statement signed by National Director General Hon. Seyi Bamigbade said the inflammatory comments of the opposition who are threatening to disrupt swearing-in of the president-elect Bola Tinubu on May 29 could be a recipe to stir crisis.',\n",
       "  'The council appealed to parties who are aggrieved about the Feb. 25 presidential and National Assembly elections to utilize legal means to seek redress rather than heating up the polity with unguarded utterances.',\n",
       "  '“We have watched with utmost concern how the opposition parties particularly the Labour Party and the PDP have consistently made efforts to undermine the country ‘s democratic institutions by threatening to block the swearing-in of the president-elect Bola Tinubu and his vice Sen. Kashim Shettima come May 29.',\n",
       "  '“One of such cases is the recent appearance of the Labour Party vice presidential candidate Mr. Datti Baba-Ahmed where he threatened that Nigeria’s hard-fought democracy will end if Bola Tinubu is sworn-in.',\n",
       "  '“For us this is abuse of freedom of speech and incitement taken too far. The parties have already lodged their petition before the courts and one would assume that they will allow the wheel of justice grind to its logical conclusion instead of this resort to self-help” he said.',\n",
       "  'The council also called on security agencies to take proactive steps to ensure that the desperation of few individuals does not throw the country into anarchy.'],\n",
       " 'spider': 'sunnewsonline'}"
      ]
     },
     "execution_count": 248,
     "metadata": {},
     "output_type": "execute_result"
    }
   ],
   "source": [
    "sample_number = 8\n",
    "sample_data = read_data(sun_data_paths[\"day=27\"][0])[sample_number]\n",
    "sample_data"
   ]
  },
  {
   "cell_type": "code",
   "execution_count": null,
   "id": "cf0d3a48",
   "metadata": {},
   "outputs": [],
   "source": []
  }
 ],
 "metadata": {
  "kernelspec": {
   "display_name": "scrapy-env",
   "language": "python",
   "name": "scrapy-project"
  },
  "language_info": {
   "codemirror_mode": {
    "name": "ipython",
    "version": 3
   },
   "file_extension": ".py",
   "mimetype": "text/x-python",
   "name": "python",
   "nbconvert_exporter": "python",
   "pygments_lexer": "ipython3",
   "version": "3.8.16"
  }
 },
 "nbformat": 4,
 "nbformat_minor": 5
}
