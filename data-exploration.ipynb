{
 "cells": [
  {
   "cell_type": "code",
   "execution_count": 7,
   "id": "96213fe6",
   "metadata": {},
   "outputs": [
    {
     "data": {
      "text/plain": [
       "True"
      ]
     },
     "execution_count": 7,
     "metadata": {},
     "output_type": "execute_result"
    }
   ],
   "source": [
    "import os\n",
    "import json\n",
    "import re\n",
    "import string\n",
    "from pprint import pprint\n",
    "from pathlib import Path\n",
    "from collections import defaultdict\n",
    "\n",
    "from dotenv import load_dotenv\n",
    "from langchain.llms import OpenAI\n",
    "\n",
    "load_dotenv()"
   ]
  },
  {
   "cell_type": "code",
   "execution_count": 8,
   "id": "1e2712c6",
   "metadata": {},
   "outputs": [],
   "source": [
    "data_root = os.path.join(\"naija_highlights\", \"data\", \"bronze\")\n",
    "punch_root = os.path.join(data_root, \"punchng\")\n",
    "sun_root = os.path.join(data_root, \"Sunnewsonline\")\n",
    "\n",
    "def get_data_paths(scraped_data_root):\n",
    "    \"\"\" get paths to data\"\"\"\n",
    "    data_paths = defaultdict(list)\n",
    "    for root, dirs, files in os.walk(scraped_data_root):\n",
    "        if \"items.json\" in files:\n",
    "            key = Path(root).stem\n",
    "            for f in files:\n",
    "                value = os.path.join(root, f)\n",
    "                data_paths[key].append(value)\n",
    "    return data_paths\n",
    "\n",
    "\n",
    "def read_data(path):\n",
    "    \"\"\" Read Json Data\"\"\"\n",
    "    data = []\n",
    "    with open(path, \"r\") as f:\n",
    "        for line in f:\n",
    "            data.append(json.loads(line))\n",
    "    \n",
    "    return data"
   ]
  },
  {
   "cell_type": "code",
   "execution_count": 9,
   "id": "fe7ec7dc",
   "metadata": {},
   "outputs": [
    {
     "data": {
      "text/plain": [
       "defaultdict(list,\n",
       "            {'day=26': ['naija_highlights/data/bronze/punchng/year=2019/month=6/day=26/items.json'],\n",
       "             'day=24': ['naija_highlights/data/bronze/punchng/year=2019/month=6/day=24/items.json'],\n",
       "             'day=25': ['naija_highlights/data/bronze/punchng/year=2019/month=6/day=25/items.json'],\n",
       "             'day=1': ['naija_highlights/data/bronze/punchng/year=2023/month=7/day=1/items.json'],\n",
       "             'day=27': ['naija_highlights/data/bronze/punchng/year=2023/month=6/day=27/items.json'],\n",
       "             'day=29': ['naija_highlights/data/bronze/punchng/year=2023/month=6/day=29/items.json'],\n",
       "             'day=28': ['naija_highlights/data/bronze/punchng/year=2023/month=6/day=28/items.json'],\n",
       "             'day=30': ['naija_highlights/data/bronze/punchng/year=2023/month=6/day=30/items.json']})"
      ]
     },
     "execution_count": 9,
     "metadata": {},
     "output_type": "execute_result"
    }
   ],
   "source": [
    "punch_data_paths = get_data_paths(punch_root)\n",
    "sun_data_paths = get_data_paths(sun_root)\n",
    "punch_data_paths"
   ]
  },
  {
   "cell_type": "markdown",
   "id": "a2ecc637",
   "metadata": {},
   "source": [
    "## Punch"
   ]
  },
  {
   "cell_type": "code",
   "execution_count": 10,
   "id": "00d59b51",
   "metadata": {},
   "outputs": [
    {
     "data": {
      "text/plain": [
       "{'weblink': 'https://punchng.com/fintiri-bans-tree-burning-for-charcoal-in-adamawa/',\n",
       " 'title': ' Fintiri bans tree burning for charcoal in Adamawa ',\n",
       " 'postdate': [29, 6, 2023],\n",
       " 'thumbnaillink': 'https://cdn.punchng.com/wp-content/uploads/2023/04/18180001/Adamawa-State-Governor-Ahmadu-Fintiri.jpg',\n",
       " 'author': 'Hindi Livinus',\n",
       " 'body': ['Governor of Adamawa State Ahmadu Umaru Fintiri has outlawed the felling of trees for charcoal fuel to curb deforestation and climate change.',\n",
       "  'Fintiri issued the ban while hosting a delegation of traditional leaders in the state led by the Presidential Candidate of the Peoples Democratic Party Former Vice President Atiku Abubakar who represented the Lamido of Adamawa Dr. Barkindo Mustapha Chairman of the Adamawa Council of Emirs and Chiefs on Sallah homage at the Presidential Lounge Yola Government House.',\n",
       "  'Governor Fintiri who thanked the traditional rulers for finding it worthy to felicitate with him on the auspicious occasion sued for their cooperation in supporting his decision to ban the burning of trees for charcoal in the state.',\n",
       "  'The governor who also met with state legislators led by the Speaker of the Assembly RT. Hon. Barthiya Wesley reiterated the ban on the cutting of trees for charcoal fuel in the state.',\n",
       "  'He said ” I just passed a directive to our traditional institutions that henceforth even though we have a law that prohibits the felling of trees that law has not been implemented fully. Now I have given the directive that henceforth there will be no cutting of trees especially in the name of burning them down for charcoal.',\n",
       "  'So it is for all of us as stakeholders to ensure that it is fully implemented.”',\n",
       "  'Speaking in support of the measure the governor noted that the recent development of flooding has shown the adverse effects of not paying enough attention to the drivers of climatic change such as the indiscriminate felling of trees for the production of charcoal as fuel.',\n",
       "  'Earlier Former Vice President Atiku Abubakar said Fintiri’s developmental stride is unparalleled in the history of the state. He promised the cooperation of traditional institutions to the government.',\n",
       "  'Fintiri said he is not taking his second term victory for granted promising that the next four years will be far better than the first tenure.'],\n",
       " 'spider': 'punchng'}"
      ]
     },
     "execution_count": 10,
     "metadata": {},
     "output_type": "execute_result"
    }
   ],
   "source": [
    "sample_number = 9\n",
    "sample_data = read_data(punch_data_paths[\"day=29\"][0])[sample_number]\n",
    "sample_data"
   ]
  },
  {
   "cell_type": "markdown",
   "id": "5fd1ff31",
   "metadata": {},
   "source": [
    "## Sun Paper"
   ]
  },
  {
   "cell_type": "code",
   "execution_count": 11,
   "id": "66043888",
   "metadata": {},
   "outputs": [
    {
     "data": {
      "text/plain": [
       "{'weblink': 'https://sunnewsonline.com/the-chase-for-credible-leadership-title/',\n",
       " 'title': 'The chase for credible leadership title',\n",
       " 'postdate': [27, 6, 2023],\n",
       " 'thumbnaillink': 'https://assets.sunnewsonline.com/2022/02/Insights.jpg',\n",
       " 'author': 'Anonymous',\n",
       " 'body': ['',\n",
       "  '',\n",
       "  '',\n",
       "  '',\n",
       "  '',\n",
       "  'The race for leadership credibility is on in Nigeria. Former and current Presidents and military dictators have argued repeatedly over the person who achieved the most during their tenures. The rush for national recognition of feats achieved or hyped by a President began when Ibrahim Babangida compared his military government with that of Olusegun Obasanjo. In late January 2008 Obasanjo who was recovering from official and unofficial public exposure of his personal and public life claimed that during his two terms as President he achieved the best for Nigeria. The jury is still out on that claim.',\n",
       "  '',\n",
       "  'Now claims are being made about the rocket-style speed with which Bola Ahmed Tinubu has launched his government that is still being contested at the election petitions’ tribunal. Keep in mind that Tinubu has not been President for up to one month as he was sworn into office on May 29 2023. Perhaps the reason for heaping accolades on Tinubu is that there is a distinct difference in the style of leadership between Tinubu and his predecessor Muhammadu Buhari during the first few months of their government.',\n",
       "  'While it took Buhari months to stitch up his cabinet and fill up senior positions in government even before he submitted names of ministerial nominees to the National Assembly Tinubu has in the words of Dele Alake a senior spokesperson “hit the ground running” by announcing people to oversee key positions in the government including officials who would serve in an interim capacity pending appointment of replacements or confirmation of those holding the positions.',\n",
       "  'I am not persuaded that one month is sufficient time to evaluate the performance of a new government. The fact that Buhari was uninspiring and incredibly slow in appointing members of his cabinet is no reason to compare Tinubu and Buhari. Owing to marked differences in the period that Tinubu has served so far and the eight years that Buhari superintended the underdevelopment of Nigeria there should be no reason to present Tinubu and Buhari to the court of public opinion for an assessment.',\n",
       "  'More important speedy appointment of government officials cannot serve as a credible benchmark for the performance of a government. Certainly there is no guarantee that the officials appointed so quickly by Tinubu would excel or perform commendably the tasks assigned to them.',\n",
       "  'There is a proverb in my part of the country that states that it is not the person who rushes to the police station first to lodge a complaint that is guaranteed of victory when the case is tested in a court of law. Tinubu is still in the first month of his government. It is sheer exaggeration to claim that Tinubu has achieved wonders in the first three weeks of his government.',\n",
       "  'It is counterproductive indeed a self-defeating argument to allocate accolades to a government that has barely taken off. Tinubu has a long way to travel to convince Nigerians through verifiable achievements that his government is incomparable to previous governments or that he has demonstrated extraordinary management skills that have allowed him to “hit the ground running” apologies to Dele Alake again to attain good governance within weeks. Time shall tell.',\n",
       "  'It is this sentiment that was expressed by Olabode George former deputy national chairman of the People’s Democratic Party PDP during an interview on Channels Television programme “Politics Today” on Tuesday last week. When he was asked to assess Tinubu’s government in the past three weeks following the inauguration of his government George said “It is not a 100-metre race. He Tinubu is to manage his people and to manage the resources of this country for the betterment of this country. He is just starting off.”',\n",
       "  'Previous Presidents have tried to talk sloppily about how their government was the best the country ever had. During a one-day visit to Ekiti State in late January 2008 Obasanjo was confronted by an angry crowd that accused him of poor governance. As expected Obasanjo told the crowd that he left the economy in better state than what was bequeathed to his government in May 1999 during his first term as an elected President. He used strong language to reply anyone who accused him of poor record of achievement.',\n",
       "  'In Ekiti Obasanjo responded to provocative chants by his critics. He said “People can say what they like. We went we saw and we performed to the best of our ability and we thank God. But some may not hear of our performance because they are deaf some may say they do not see because they are blind.”',\n",
       "  'Not only was Obasanjo’s language disrespectful of all those who suffer from hearing or visual impairment it was also inappropriate for a former President to belittle people in such a way.',\n",
       "  'It was strange therefore to hear Obasanjo who could not tolerate criticisms by citizens deliver a late afternoon sermon to then Ekiti State governor Segun Oni. Obasanjo told the governor “In governance and in politics once you are in position of authority all the citizens are your subjects. You must not discriminate against anybody. All must benefit from your government. Accountability must be your watchword…You must be transparent honest and keep your integrity intact. The economy of the state must receive all the attention it deserves so as to improve the lot of your people.”',\n",
       "  'It is amazing that Obasanjo should prescribe for a state governor the values that he scorned when he was President. Paradoxically Obasanjo never lived up to the standards he recommended to other leaders at state and national levels.',\n",
       "  'For eight years Obasanjo meddled arbitrarily in state affairs. He encouraged secretly the reign of terror unleashed by political thugs in Anambra State under the supervision of a political mischief-maker known as Chris Uba. For the eight years that Obasanjo was President the people of Anambra State were held hostage by the combined force of Obasanjo’s mobile police and Chris Uba’s lawless team.',\n",
       "  'But Obasanjo’s unsolicited intrusion into other state matters did not end in Anambra. In Oyo State Obasanjo idolised Lamidi Adedibu the stormy petrel of Ibadan politics who consistently wrestled for political pre-eminence with the duly elected Governor Rasheed Ladoja. In Ekiti State Obasanjo played his duplicitous political card as he encouraged Ayo Fayose and at the same time encouraged the opposition that eventually succeeded in overthrowing Fayose.',\n",
       "  'With such an unenviable track record it is difficult to understand how Obasanjo could claim legitimately that he left the country in a better state than he found it when he became President in 1999.',\n",
       "  'It’s all very good to stand aside and offer advice for public consumption. Clearly Obasanjo should not recommend what he could not achieve when he was in government.',\n",
       "  'It is in this context that former Presidents and Tinubu who begin to contest the race for leadership credibility must be advised to reflect on the years they plotted to ascend the throne in Aso Rock but found the job challenging.',\n",
       "  'Obasanjo Babangida Goodluck Jonathan Buhari and now Tinubu can continue the public debate over who performed best as President of Nigeria. In the court of public opinion all of them perhaps except for Tinubu who has been in office for under four weeks represent the effigies of failure. They are men to whom so much was given but who squandered excellent opportunities to transform Nigeria and to make a difference in the lives of ordinary people.'],\n",
       " 'spider': 'sunnewsonline'}"
      ]
     },
     "execution_count": 11,
     "metadata": {},
     "output_type": "execute_result"
    }
   ],
   "source": [
    "sample_number = 30\n",
    "sample_data = read_data(sun_data_paths[\"day=27\"][0])[sample_number]\n",
    "sample_data"
   ]
  },
  {
   "cell_type": "markdown",
   "id": "a1544384-baa5-43f6-9e5f-be8919970892",
   "metadata": {},
   "source": [
    "# Highlights - Select Article"
   ]
  },
  {
   "cell_type": "code",
   "execution_count": 12,
   "id": "1419b36e-80fb-431e-b527-0b3ea53ca050",
   "metadata": {},
   "outputs": [],
   "source": [
    "from langchain.prompts import PromptTemplate\n",
    "from langchain.chains import LLMChain\n",
    "from pprint import pprint\n",
    "\n",
    "def create_chain(prompt:str, temperature:float):\n",
    "    \"\"\"generate an highlight template of the article\"\"\"\n",
    "    llm = OpenAI(openai_api_key=os.environ.get(\"OPENAI_API_KEY\"), \n",
    "                 temperature=temperature)\n",
    "    template = prompt +  \" {newsarticle}\"\n",
    "    prompt = PromptTemplate(\n",
    "                input_variables=[\"newsarticle\"],\n",
    "                template=template)\n",
    "\n",
    "    print(f\"sample prompt is: {prompt.format(newsarticle='Abacha was the president')}\")\n",
    "    chain = LLMChain(llm=llm, prompt=prompt)\n",
    "    return chain\n",
    "\n",
    "\n",
    "def select_article(\n",
    "    news_agency,\n",
    "    day,\n",
    "    sample):\n",
    "    \"\"\"selects a crawled article \"\"\"\n",
    "\n",
    "    data_paths = sun_data_paths if news_agency == \"sun\" else punch_data_paths\n",
    "    article = read_data(data_paths[f\"day={day}\"][0])[sample]\n",
    "    title = article[\"title\"]\n",
    "    article = \" \".join(article[\"body\"])\n",
    "    return article, title\n",
    "    "
   ]
  },
  {
   "cell_type": "code",
   "execution_count": 22,
   "id": "483876cb-b304-4997-8dac-f7c140c98f1a",
   "metadata": {},
   "outputs": [
    {
     "name": "stdout",
     "output_type": "stream",
     "text": [
      "-- Title:  Abia Panel of Inquiry: Only looters ‘ll condemn Otti – Apugo, APC Chieftain --\n",
      "('Speaking in Umuahia Apugo said officials of the previous administrations '\n",
      " 'looted the state so blind that no Governor who would want to develop the '\n",
      " 'state and the people take him seriously will not want to recover such '\n",
      " 'properties and funds. “These people looted the state blind and no Governor '\n",
      " 'who will not only want to rebuild the state but want to have the trust and '\n",
      " 'confidence of his people will not want to recover the looted funds”. On the '\n",
      " 'recovery of Government properties Apugo urged the Panel to beam its '\n",
      " 'searchlight proper on the activities of the government before that of '\n",
      " 'Ikpeazu’s. “That Government did some many things wrong hiding under PIU they '\n",
      " 'forcefully collected people’s land without compensation and in turn '\n",
      " 'allocated them free to their cronies. “To perfect their atrocities the '\n",
      " 'Governor then removed a qualified Town Planner which the law establishing '\n",
      " 'the PIU required and brought in a barber as the General Manager who was '\n",
      " 'doing his bidding”. Responding to misgivings in some quarters that the probe '\n",
      " 'shouldn’t have targeted at Dr. Okezie Ikpeazu’s administration alone Apugo '\n",
      " 'said it was always good to state from somewhere.“I am not in Government but '\n",
      " 'as an individual I will like both the administrations of T.A Orji and '\n",
      " 'Ikpeazu to be probed but if Gov Otti in his wisdom decided to probe that of '\n",
      " 'Ikpeazu for now so be it after all it is said in Igbo land ‘one will use the '\n",
      " 'chic to get the mother hen’. He asked Otti not to listen to those '\n",
      " 'threatening hell and brimstone over the Panel since they are not the Abians '\n",
      " 'whose properties and funds were looted. “Otti should not listen to those '\n",
      " 'threatening hell and brimstone over the Panel they are not Abians who own '\n",
      " 'the money but are looters of the said funds nobody who was not involved in '\n",
      " 'the looting should be worried about the Panel”. On Otti’s suspension of all '\n",
      " 'Permanent Secretaries and the HoS in the state Apugo said it was the right '\n",
      " 'thing to be done. “There is no way he would have allowed those who were part '\n",
      " 'of the problems all these years to remain in office they would have remained '\n",
      " 'cog in the wheel of progress of his administration and Abia would not have '\n",
      " 'been better. “That was the problem former President Muhammadu Buhari had. '\n",
      " 'When he came in instead of removing Godwin Emefiele as CBN Governor Buhari '\n",
      " 'allowed him Emefiele dealt with Nigerians and at the end disgraced himself” '\n",
      " 'Apugo said.')\n"
     ]
    }
   ],
   "source": [
    "news_agency=\"sun\"\n",
    "day=30\n",
    "sample=6\n",
    "article, title = select_article(news_agency, day, sample)\n",
    "print(\"-- Title: \", title, \"--\")\n",
    "pprint(article)"
   ]
  },
  {
   "cell_type": "markdown",
   "id": "76c66c89-bbeb-4408-ba58-e9f4908af409",
   "metadata": {},
   "source": [
    "## Text Summarization"
   ]
  },
  {
   "cell_type": "code",
   "execution_count": 23,
   "id": "08da5b72-6282-42c5-99ff-bcef6701f76e",
   "metadata": {},
   "outputs": [
    {
     "name": "stdout",
     "output_type": "stream",
     "text": [
      "sample prompt is: Summarize the news article in a clear and succinct manner, keeping it within 80 words. News article:  Abacha was the president\n",
      "('\\n'\n",
      " '\\n'\n",
      " \"Governor Okezie Ikpeazu's administration is being probed for looting the \"\n",
      " 'state blind, and Apugo urges the panel to also investigate the previous '\n",
      " 'administrations. He also encourages Governor Otti not to listen to those '\n",
      " 'threatening hell and brimstone over the probe, and to suspend all Permanent '\n",
      " 'Secretaries and HoS in the state. Apugo believes this is the right thing to '\n",
      " \"do, citing former President Muhammadu Buhari's mistake of not removing \"\n",
      " 'Godwin Emefiele as CBN Governor.')\n"
     ]
    }
   ],
   "source": [
    "prompt = \"Summarize the news article in a clear and succinct manner, keeping it within 80 words. News article: \"\n",
    "temperature=0.4\n",
    "\n",
    "highlight_chain = create_chain(prompt, temperature)\n",
    "output = highlight_chain.run(article)\n",
    "\n",
    "pprint(output)"
   ]
  },
  {
   "cell_type": "markdown",
   "id": "07d3dc9c-2c9a-482e-8abe-d36ee79a4a9b",
   "metadata": {},
   "source": [
    "## NER"
   ]
  },
  {
   "cell_type": "code",
   "execution_count": 24,
   "id": "efc4109b-e84d-4d8e-8d1b-2f7e4dbdf903",
   "metadata": {},
   "outputs": [
    {
     "name": "stdout",
     "output_type": "stream",
     "text": [
      "sample prompt is:  Extract the important entities mentioned in the text below. First extract all company names, then extract all people names, and finally extract general overarching themes\n",
      "Desired format: Company names: <comma_separated_list_of_company_names> People names: -||- General themes: -||-  Text:\"  Abacha was the president\n",
      "\n",
      "\n",
      "\n",
      "Company names: None \n",
      "People names: T.A Orji, Okezie Ikpeazu, Gov Otti, Godwin Emefiele \n",
      "General themes: Looting, Recovery of Government Properties, Suspension of Permanent Secretaries and HoS\n"
     ]
    }
   ],
   "source": [
    "prompt=\"\"\" Extract the important entities mentioned in the text below. First extract all company names, then extract all people names, and finally extract general overarching themes\n",
    "Desired format: Company names: <comma_separated_list_of_company_names> People names: -||- General themes: -||-  Text:\" \"\"\"\n",
    "temperature=0.4\n",
    "\n",
    "ner_chain = create_chain(prompt, temperature)\n",
    "output = ner_chain.run(article)\n",
    "\n",
    "print(\"\\n\")\n",
    "print(output)"
   ]
  },
  {
   "cell_type": "markdown",
   "id": "257266c7-21d4-4ec9-8299-fd40fec0652b",
   "metadata": {},
   "source": [
    "## Emotion Detection"
   ]
  },
  {
   "cell_type": "code",
   "execution_count": 26,
   "id": "0f60def2-e657-4b38-9916-11d0443cba7a",
   "metadata": {},
   "outputs": [
    {
     "name": "stdout",
     "output_type": "stream",
     "text": [
      "sample prompt is:  Give the major two emotional tones of the text and rate the intensity of the emotion on a scale of 1 to 10. \n",
      "Desired format:\n",
      "emotional tone: <comma_separated_list_of_emotional_tone>\n",
      "intensity: <number> Text: Abacha was the president\n",
      "'\\n'\n",
      "\n",
      "\n",
      "emotional tone: Anger, disappointment\n",
      "intensity: 8\n"
     ]
    }
   ],
   "source": [
    "prompt = \"\"\" Give the major two emotional tones of the text and rate the intensity of the emotion on a scale of 1 to 10. \n",
    "Desired format:\n",
    "emotional tone: <comma_separated_list_of_emotional_tone>\n",
    "intensity: <number> Text:\"\"\"\n",
    "temperature=1\n",
    "\n",
    "emotion_chain = create_chain(prompt, temperature)\n",
    "output = emotion_chain.run(article)\n",
    "\n",
    "pprint(\"\\n\")\n",
    "print(output)"
   ]
  },
  {
   "cell_type": "code",
   "execution_count": null,
   "id": "70b25f1a-ba97-4246-9c8b-f2d0fe096012",
   "metadata": {},
   "outputs": [],
   "source": []
  }
 ],
 "metadata": {
  "kernelspec": {
   "display_name": "naija_highlights",
   "language": "python",
   "name": "naija_highlights"
  },
  "language_info": {
   "codemirror_mode": {
    "name": "ipython",
    "version": 3
   },
   "file_extension": ".py",
   "mimetype": "text/x-python",
   "name": "python",
   "nbconvert_exporter": "python",
   "pygments_lexer": "ipython3",
   "version": "3.9.16"
  }
 },
 "nbformat": 4,
 "nbformat_minor": 5
}
